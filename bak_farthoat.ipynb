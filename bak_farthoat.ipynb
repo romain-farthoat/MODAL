{
 "cells": [
  {
   "cell_type": "markdown",
   "id": "22475735",
   "metadata": {},
   "source": [
    "# Simulations de l'algorithme"
   ]
  },
  {
   "cell_type": "markdown",
   "id": "c15a2ec8",
   "metadata": {},
   "source": [
    "### Fonctions de génération des communautés et des arêtes"
   ]
  },
  {
   "cell_type": "code",
   "execution_count": 2,
   "id": "1a895b2f",
   "metadata": {},
   "outputs": [],
   "source": [
    "import numpy as np\n",
    "import random as rd\n",
    "import matplotlib.pyplot as plt\n",
    "import sklearn.cluster as sk\n",
    "\n",
    "def warn(*args, **kwargs):\n",
    "    pass\n",
    "import warnings\n",
    "warnings.warn = warn"
   ]
  },
  {
   "cell_type": "code",
   "execution_count": 3,
   "id": "78756a78",
   "metadata": {},
   "outputs": [],
   "source": [
    "## génération des communautés et calcul d'une arête entre deux sommets\n",
    "\n",
    "def generateCommunities(n):\n",
    "    community = [(0 if i<n//2 else 1) for i in range(n)]\n",
    "    rd.shuffle(community)\n",
    "    \n",
    "    return community\n",
    "\n",
    "def graph(i,j,community, p, q):\n",
    "    if(rd.random()<p and community[i]==community[j]) or (rd.random()<q and community[i]!=community[j]):\n",
    "        return 1\n",
    "    else:\n",
    "        return 0\n"
   ]
  },
  {
   "cell_type": "markdown",
   "id": "4fd03f0e",
   "metadata": {},
   "source": [
    "### Algorithme spectral de détection de communautés."
   ]
  },
  {
   "cell_type": "markdown",
   "id": "674d19e1",
   "metadata": {},
   "source": [
    "On utilise ici l'algorithme de spectral clustering de sklearn.\n",
    "\n",
    "Cet algorithme trouve les communautés en calculant les vecteurs propres de la matrice Laplacienne définie par :\n",
    "$$L=I-D^{-1/2}RD^{-1/2}$$\n",
    "\n",
    "où $D=\\mathrm{diag}(d_1,\\dots,d_n)$ avec $d_i$ le degré du sommet $i$\n",
    "\n",
    "On considère les deux vecteurs propres associés aux deux **plus grandes valeurs propres** (en valeur absolue) de $L$: $X_1,X_2$\n",
    "\n",
    "On traite alors $(X_1,X_2)$ comme une matrice de $\\mathbb{R}^{n\\times 2}$\n",
    "On applique k-means aux $n$ lignes de la matrice, prises comme des points de $\\mathbb{R}^{2}$.\n",
    "\n",
    "Le cluster dans lequel un point est placé donne la communauté du sommet qui se trouve à la même ligne que lui."
   ]
  },
  {
   "cell_type": "code",
   "execution_count": 4,
   "id": "e2ee43d6",
   "metadata": {},
   "outputs": [],
   "source": [
    "def communityDetection(community, N, score, p, q):\n",
    "    # score[0] représente le nombre de matchs effectués\n",
    "    # score[1] représente le nombre de matchs réussis\n",
    "    \n",
    "    R=np.zeros((N,N))\n",
    "    \n",
    "    tau = 0\n",
    "    R=np.zeros((N,N))\n",
    "    for i in range(N):\n",
    "        for j in range(i):\n",
    "            R[i,j]=graph(i,j,community, p, q)\n",
    "            tau += R[i,j]\n",
    "            score[1] += R[i,j]\n",
    "            R[j,i]=R[i,j]\n",
    "    tau /= N*(N-1)//2\n",
    "    score[0]+= N*(N-1)//2\n",
    "    \n",
    "    \n",
    "    C1 = []\n",
    "    C0 = []\n",
    "        \n",
    "    Community=sk.SpectralClustering(n_clusters=2, affinity='precomputed').fit(R).labels_\n",
    "    \n",
    "    for i in range(N):\n",
    "        if(Community[i]==1):\n",
    "            C1.append(i)\n",
    "        else:\n",
    "            C0.append(i)\n",
    "    \n",
    "    return(C0, C1, tau)"
   ]
  },
  {
   "cell_type": "markdown",
   "id": "54750ddc",
   "metadata": {},
   "source": [
    "### Algorithme de matching pour la stratégie sans ajout de sommets."
   ]
  },
  {
   "cell_type": "code",
   "execution_count": 5,
   "id": "5ebb758b",
   "metadata": {},
   "outputs": [],
   "source": [
    "## La stratégie est ici la même que celle décrite dans le rapport écrit\n",
    "\n",
    "def matching(x, C0, C1, community, tau, score, T, p, q):\n",
    "    mu0=graph(x, C0[0], community, p, q)\n",
    "    mu1=graph(x, C1[0], community, p, q)    \n",
    "    \n",
    "    score[1] += mu0 + mu1\n",
    "    \n",
    "    s1 = 1\n",
    "    s0 = 1\n",
    "    score[0] += 2\n",
    "    \n",
    "    while(s0 < len(C0) and s1 < len(C1)):\n",
    "        if(mu1 < s1*tau and mu0 < s0*tau):\n",
    "            e1=graph(x, C1[s1], community, p, q)\n",
    "            e0=graph(x, C0[s0], community, p ,q)\n",
    "            \n",
    "            mu1 += e1\n",
    "            mu0 += e0\n",
    "            score[1] += e1+e0\n",
    "            \n",
    "            s1 += 1\n",
    "            s0 += 1\n",
    "            score[0]+=2\n",
    "        elif(mu1*s0 < mu0*s1):\n",
    "            e0=graph(x, C0[s0], community, p, q)\n",
    "            \n",
    "            mu0 += e0\n",
    "            score[1] += e0\n",
    "            \n",
    "            s0 += 1\n",
    "            score[0] += 1\n",
    "        else:\n",
    "            e1=graph(x, C1[s1], community, p, q)\n",
    "            \n",
    "            mu1 += e1\n",
    "            score[1] += e1\n",
    "            \n",
    "            s1 += 1\n",
    "            score[0] += 1\n",
    "        if(score[0]>=T):\n",
    "            return\n",
    "\n",
    "def naiveStrategy(community, T, p, q):\n",
    "    N = min(int(((p*T)/(p-q)**2)**(1/3)), int((2*T)**(1/2)))\n",
    "    score = [0,0]\n",
    "    (C0, C1, tau) = communityDetection(community, N, score, p, q)\n",
    "    \n",
    "    x=N\n",
    "    \n",
    "    while(score[0]<T):\n",
    "        matching(x, C0, C1, community, tau, score, T, p, q)\n",
    "        x+=1\n",
    "    return score[1]\n"
   ]
  },
  {
   "cell_type": "markdown",
   "id": "e49624e4",
   "metadata": {},
   "source": [
    "### Algorithme de matching pour la stratégie avec ajout de sommets."
   ]
  },
  {
   "cell_type": "code",
   "execution_count": 6,
   "id": "a5574a34",
   "metadata": {},
   "outputs": [],
   "source": [
    "def matchingAdd(x, C0, C1, community, tau, score, T, p, q):\n",
    "    mu0=graph(x, C0[0], community, p, q)\n",
    "    mu1=graph(x, C1[0], community, p, q)    \n",
    "    \n",
    "    score[1] += mu0 + mu1\n",
    "    \n",
    "    s1 = 1\n",
    "    s0 = 1\n",
    "    score[0] += 2\n",
    "    \n",
    "    while(s0 < len(C0) and s1 < len(C1)):\n",
    "        if(mu1 < s1*tau and mu0 < s0*tau):\n",
    "            e1=graph(x, C1[s1], community, p, q)\n",
    "            e0=graph(x, C0[s0], community, p ,q)\n",
    "            \n",
    "            mu1 += e1\n",
    "            mu0 += e0\n",
    "            score[1] += e1+e0\n",
    "            \n",
    "            s1 += 1\n",
    "            s0 += 1\n",
    "            score[0]+=2\n",
    "        elif(mu1*s0 < mu0*s1):\n",
    "            e0=graph(x, C0[s0], community, p, q)\n",
    "            \n",
    "            mu0 += e0\n",
    "            score[1] += e0\n",
    "            \n",
    "            s0 += 1\n",
    "            score[0] += 1\n",
    "        else:\n",
    "            e1=graph(x, C1[s1], community, p, q)\n",
    "            \n",
    "            mu1 += e1\n",
    "            score[1] += e1\n",
    "            \n",
    "            s1 += 1\n",
    "            score[0] += 1\n",
    "        if(score[0]>=T):\n",
    "            return\n",
    "    \n",
    "    if(s0 == len(C0)):\n",
    "        C0.append(x)\n",
    "    else:\n",
    "        C1.append(x)\n",
    "\n",
    "def addStrategy(community, T, p, q):\n",
    "    N = int((T**(1/4)))\n",
    "    score = [0,0]\n",
    "    (C0, C1, tau) = communityDetection(community, N, score, p, q)\n",
    "    \n",
    "    x=N\n",
    "    \n",
    "    while(score[0]<T):\n",
    "        matchingAdd(x, C0, C1, community, tau, score, T, p, q)\n",
    "        x+=1\n",
    "    return score[1]\n"
   ]
  },
  {
   "cell_type": "markdown",
   "id": "b3b2bfe1",
   "metadata": {},
   "source": [
    "### Simulations numériques des méthodes avec et sans ajout des sommets pour $p=0.5$ et $q=0.1$.\n",
    "\n",
    "On utilise une échelle $\\log/\\log$ afin d'observer le comportement **sous-linéaire** des résultats."
   ]
  },
  {
   "cell_type": "code",
   "execution_count": 7,
   "id": "cc8accf0",
   "metadata": {},
   "outputs": [],
   "source": [
    "p=1\n",
    "q=0.5\n",
    "\n",
    "logT=range(3,7)\n",
    "T=[10**l for l in logT]\n",
    "\n",
    "# résultat attendu en tirant des arêtes au hasard\n",
    "RandomRegret=[(p-q)*t/2 for t in T]\n",
    "logRandomRegret=np.log10(RandomRegret)"
   ]
  },
  {
   "cell_type": "code",
   "execution_count": 8,
   "id": "a09ba9b2",
   "metadata": {},
   "outputs": [],
   "source": [
    "def testNaive(T, p, q):\n",
    "    community=generateCommunities(T)\n",
    "    \n",
    "    return(naiveStrategy(community, T, p, q))\n",
    "\n",
    "RegretNaive=[np.mean([(p*t)-testNaive(t,p,q) for i in range(5)]) for t in T]\n",
    "logRegretNaive=np.log10(RegretNaive)"
   ]
  },
  {
   "cell_type": "code",
   "execution_count": 9,
   "id": "7e51754e",
   "metadata": {},
   "outputs": [],
   "source": [
    "def testAdd(T, p, q):\n",
    "    community=generateCommunities(int(T**(2/3)))\n",
    "    \n",
    "    return(addStrategy(community, T, p, q))\n",
    "\n",
    "RegretAdd=[np.mean([(p*t)-testAdd(t,p,q) for i in range(5)]) for t in T]\n",
    "logRegretAdd=np.log10(RegretAdd)"
   ]
  },
  {
   "cell_type": "code",
   "execution_count": 10,
   "id": "2a76397b",
   "metadata": {},
   "outputs": [
    {
     "data": {
      "image/png": "[encoded data removed]",
      "text/plain": [
       "<Figure size 432x288 with 1 Axes>"
      ]
     },
     "metadata": {
      "needs_background": "light"
     },
     "output_type": "display_data"
    },
    {
     "name": "stdout",
     "output_type": "stream",
     "text": [
      "La pente pour la stratégie sans ajout des sommets vaut:\n",
      "0.6727623739538324\n",
      "La pente pour la stratégie avec ajout des sommets vaut:\n",
      "0.4368968608856309\n"
     ]
    }
   ],
   "source": [
    "plt.plot(logT, logRandomRegret)\n",
    "plt.plot(logT, logRegretNaive)\n",
    "plt.plot(logT, logRegretAdd)\n",
    "\n",
    "titre = 'Regret pour les différentes stratégies, avec p={P:.2f}, q={Q:.2f}'\n",
    "\n",
    "plt.title(titre.format(P = p, Q = q))\n",
    "plt.legend(['random choice of edges','naive strategy','add strategy'])\n",
    "plt.xlabel('log(T)')\n",
    "plt.ylabel('log(Regret)')\n",
    "\n",
    "plt.show()\n",
    "\n",
    "print('La pente pour la stratégie sans ajout des sommets vaut:')\n",
    "print((logRegretNaive[-1]-logRegretNaive[0])/(logT[-1]-logT[0]))\n",
    "\n",
    "print('La pente pour la stratégie avec ajout des sommets vaut:')\n",
    "print((logRegretAdd[-1]-logRegretAdd[0])/(logT[-1]-logT[0]))"
   ]
  },
  {
   "cell_type": "code",
   "execution_count": 11,
   "id": "4ba245f1",
   "metadata": {},
   "outputs": [],
   "source": [
    "p=.95\n",
    "q=0.2\n",
    "T=10**6\n",
    "\n",
    "alpha=[2**(-t) for t in range(7)]\n",
    "logAlpha=np.log10(alpha)\n",
    "\n",
    "RandomRegret=[a*T/2 for a in alpha]\n",
    "logRandomRegret=np.log10(RandomRegret)\n",
    "\n",
    "RegretNaive=[np.mean([(p*T)-testNaive(T,p,p-a) for i in range(10)]) for a in alpha]\n",
    "logRegretNaive=np.log10(RegretNaive)\n",
    "\n",
    "RegretAdd=[np.mean([(p*T)-testAdd(T,p,p-a) for i in range(10)]) for a in alpha]\n",
    "logRegretAdd=np.log10(RegretAdd)\n"
   ]
  },
  {
   "cell_type": "code",
   "execution_count": 12,
   "id": "42aff54d",
   "metadata": {},
   "outputs": [
    {
     "data": {
      "image/png": "[encoded data removed]",
      "text/plain": [
       "<Figure size 432x288 with 1 Axes>"
      ]
     },
     "metadata": {
      "needs_background": "light"
     },
     "output_type": "display_data"
    },
    {
     "name": "stdout",
     "output_type": "stream",
     "text": [
      "La pente pour la stratégie sans ajout des sommets vaut:\n",
      "0.380503526557688\n",
      "La pente pour la stratégie avec ajout des sommets vaut:\n",
      "-0.23378523070092003\n"
     ]
    }
   ],
   "source": [
    "plt.plot(logAlpha, logRandomRegret)\n",
    "plt.plot(logAlpha, logRegretNaive)\n",
    "plt.plot(logAlpha, logRegretAdd)\n",
    "\n",
    "titre = 'Regret pour les différentes stratégies, avec T=1e6, p=0.95, q=0.95*(1-alpha)'\n",
    "\n",
    "plt.title(titre.format(P = p, Q = q))\n",
    "plt.legend(['random choice of edges','naive strategy','add strategy'])\n",
    "plt.xlabel('log(alpha)')\n",
    "plt.ylabel('log(Regret)')\n",
    "\n",
    "plt.show()\n",
    "\n",
    "print('La pente pour la stratégie sans ajout des sommets vaut:')\n",
    "print((logRegretNaive[0]-logRegretNaive[1])/(logAlpha[0]-logAlpha[1]))\n",
    "\n",
    "print('La pente pour la stratégie avec ajout des sommets vaut:')\n",
    "print((logRegretAdd[0]-logRegretAdd[1])/(logAlpha[0]-logAlpha[1]))"
   ]
  },
  {
   "cell_type": "code",
   "execution_count": 13,
   "id": "543fb35f",
   "metadata": {},
   "outputs": [],
   "source": [
    "p=.95\n",
    "q=.05\n",
    "T=10**6\n",
    "\n",
    "alpha=[2**(-t) for t in range(7)]\n",
    "logAlpha=np.log10(alpha)\n",
    "\n",
    "RandomRegret=[a*T/2 for a in alpha]\n",
    "logRandomRegret=np.log10(RandomRegret)\n",
    "\n",
    "RegretNaive=[np.mean([(a*p*T)-testNaive(T,a*p,a*q) for i in range(10)]) for a in alpha]\n",
    "logRegretNaive=np.log10(RegretNaive)\n",
    "\n",
    "RegretAdd=[np.mean([(a*p*T)-testAdd(T,a*p,a*q) for i in range(10)]) for a in alpha]\n",
    "logRegretAdd=np.log10(RegretAdd)"
   ]
  },
  {
   "cell_type": "code",
   "execution_count": 14,
   "id": "220472cb",
   "metadata": {},
   "outputs": [
    {
     "data": {
      "image/png": "[encoded data removed]",
      "text/plain": [
       "<Figure size 432x288 with 1 Axes>"
      ]
     },
     "metadata": {
      "needs_background": "light"
     },
     "output_type": "display_data"
    },
    {
     "name": "stdout",
     "output_type": "stream",
     "text": [
      "La pente pour la stratégie sans ajout des sommets vaut:\n",
      "-0.23220825351805116\n",
      "La pente pour la stratégie avec ajout des sommets vaut:\n",
      "-0.34673620535105454\n"
     ]
    }
   ],
   "source": [
    "RandomRegret=[a*(.9)*T/2 for a in alpha]\n",
    "logRandomRegret=np.log10(RandomRegret)\n",
    "\n",
    "plt.plot(logAlpha, logRandomRegret)\n",
    "plt.plot(logAlpha, logRegretNaive)\n",
    "plt.plot(logAlpha, logRegretAdd)\n",
    "\n",
    "titre = 'Regret pour les différentes stratégies, avec T=1e6, p=0.95*alpha, q=0.05*alpha'\n",
    "\n",
    "plt.title(titre.format(caca = p, prout = q))\n",
    "plt.legend(['random choice of edges','naive strategy','add strategy'])\n",
    "plt.xlabel('log(alpha)')\n",
    "plt.ylabel('log(Regret)')\n",
    "\n",
    "plt.show()\n",
    "\n",
    "print('La pente pour la stratégie sans ajout des sommets vaut:')\n",
    "print((logRegretNaive[0]-logRegretNaive[1])/(logAlpha[0]-logAlpha[1]))\n",
    "\n",
    "print('La pente pour la stratégie avec ajout des sommets vaut:')\n",
    "print((logRegretAdd[0]-logRegretAdd[1])/(logAlpha[0]-logAlpha[1]))"
   ]
  },
  {
   "cell_type": "markdown",
   "id": "29ca4544",
   "metadata": {},
   "source": [
    "## Résultats\n",
    "\n",
    "### Stratégie avec ajout de sommets\n",
    "\n",
    "On trouve une pente proche de 0.5 pour cette stratégie.\n",
    "Cela concorde avec notre conjecture sur le regret en $O\\left(\\sqrt{T}\\right)$ de la stratégie.\n",
    "\n",
    "### Stratégie sans ajout de sommets\n",
    "\n",
    "En ce qui concerne la stratégie sans ajout de sommets, on trouve une pente d'environ $0.74$, ce qui est assez proche des $\\dfrac{2}{3}$ de nos résultats théoriques.\n",
    "\n",
    "On retrouve donc bien le $O\\left(T^{2/3}\\right)$ de nos résultats théoriques.\n",
    "\n",
    "Notons que notre deuxième algorithme semble atteindre son régime asymptotique plus rapidement que le premier."
   ]
  },
  {
   "cell_type": "markdown",
   "id": "26652db7",
   "metadata": {},
   "source": [
    "# Simulations avec données réelles"
   ]
  },
  {
   "cell_type": "markdown",
   "id": "b3b71828",
   "metadata": {},
   "source": [
    "On a choisi d'appliquer nos résultats sur un forum de discussion, dans la section politique.\n",
    "\n",
    "On récupère les différents sujets (threads), ainsi que les utilisateurs ayant posté dessus."
   ]
  },
  {
   "cell_type": "code",
   "execution_count": 9,
   "id": "ffb3c0c4",
   "metadata": {},
   "outputs": [],
   "source": [
    "import requests\n",
    "import praw\n",
    "from praw.models import MoreComments\n",
    "\n",
    "import collections\n",
    "\n",
    "r = praw.Reddit(username = 'Lucien-Arpene',            \n",
    "password = 'Dissoutou1',            \n",
    "client_id = 'DvuEtPu5GtwgN0oHsWBF0w',            \n",
    "client_secret = 'tTdY5fyKK88YyE-_FSGBbQ22H6669w',            \n",
    "user_agent = 'MyBot/0.0.1') \n"
   ]
  },
  {
   "cell_type": "code",
   "execution_count": 10,
   "id": "fc7d983b",
   "metadata": {},
   "outputs": [],
   "source": [
    "def addAuthors(subredditName, authorsOfThread, limit):\n",
    "    subreddit = r.subreddit(subredditName)\n",
    "    if(limit==0):\n",
    "        threads=subreddit.hot()\n",
    "    else:\n",
    "        threads=subreddit.hot(limit=limit)\n",
    "    \n",
    "    for thread in threads:\n",
    "        comments=thread.comments\n",
    "        comments.replace_more()\n",
    "\n",
    "        authors=set(filter(lambda author:author!=None,[comment.author for comment in comments]))\n",
    "\n",
    "        authorsOfThread[thread.title]=authors\n",
    "    return authorsOfThread\n",
    "\n",
    "\n",
    "def countComments(authorsOfThread):\n",
    "    nbComments = {}\n",
    "    \n",
    "    for authors in authorsOfThread.values():\n",
    "        for author in authors:\n",
    "            if not(author in nbComments):\n",
    "                nbComments[author]=1\n",
    "            else:\n",
    "                nbComments[author]+=1\n",
    "    return nbComments\n",
    "\n",
    "def cleanUp(nbComments, authorsOfThread):\n",
    "    for author in nbComments.keys():\n",
    "        if(nbComments[author]==1):\n",
    "            for authors in authorsOfThread.values():\n",
    "                authors.discard(author)"
   ]
  },
  {
   "cell_type": "code",
   "execution_count": 11,
   "id": "38175e5a",
   "metadata": {},
   "outputs": [],
   "source": [
    "def generateData():\n",
    "    authorsOfThread={}\n",
    "    \n",
    "    addAuthors('Politics',authorsOfThread, limit=100)\n",
    "\n",
    "    nbComments=countComments(authorsOfThread)\n",
    "\n",
    "    cleanUp(nbComments,authorsOfThread)\n",
    "\n",
    "    authors = set([])\n",
    "\n",
    "    for thread in authorsOfThread.values():\n",
    "        for author in thread:\n",
    "            authors.add(author)\n",
    "    \n",
    "    return(authorsOfThread, authors)\n"
   ]
  },
  {
   "cell_type": "code",
   "execution_count": 12,
   "id": "c44a9671",
   "metadata": {},
   "outputs": [
    {
     "name": "stdout",
     "output_type": "stream",
     "text": [
      "Il y a 622 sommets sur le graphe\n"
     ]
    }
   ],
   "source": [
    "authorsOfThread, authors= generateData()\n",
    "\n",
    "print(\"Il y a {} sommets sur le graphe\".format(len(authors)))"
   ]
  },
  {
   "cell_type": "markdown",
   "id": "e7a748e4",
   "metadata": {},
   "source": [
    "## Génération du graphe"
   ]
  },
  {
   "cell_type": "markdown",
   "id": "d85a8c2c",
   "metadata": {},
   "source": [
    "On considère que deux utilisateurs du forum sont reliés s'ils ont écrit sur au moins un **thread commun**.\n",
    "\n",
    "Cela pose un problème, puisque la majorité des utilisateurs n'ont écrit que sur un seul thread, ce qui rend les communautés triviales (une communauté ne serait qu'un ensemble de threads, avec les personnes associées).\n",
    "\n",
    "On ne considère donc que les utilisateurs ayant écrit sur au moins **deux threads** différents, afin de rendre ce problème moins présent."
   ]
  },
  {
   "cell_type": "code",
   "execution_count": 27,
   "id": "e4c889db",
   "metadata": {},
   "outputs": [],
   "source": [
    "def edge(author1, author2, authorsOfThread):\n",
    "    p=0\n",
    "    \n",
    "    for authorsSet in authorsOfThread.values():\n",
    "        if(author1 in authorsSet and author2 in authorsSet):\n",
    "            return 1\n",
    "    return 0\n",
    "\n",
    "def generateGraph(authorsOfThread, authors):\n",
    "    authorsList = list(authors)\n",
    "    rd.shuffle(authorsList)\n",
    "    \n",
    "    n=len(authorsList)\n",
    "    graph=np.zeros((n,n), dtype=int)\n",
    "    \n",
    "    for i in range(n):\n",
    "        for j in range(i):\n",
    "            graph[i,j]=edge(authorsList[i],authorsList[j], authorsOfThread)\n",
    "            graph[j,i]=graph[i,j]\n",
    "    return graph\n",
    "    "
   ]
  },
  {
   "cell_type": "code",
   "execution_count": 28,
   "id": "670028a0",
   "metadata": {},
   "outputs": [],
   "source": [
    "## Les programmse ci-dessous sont analogues à ceux de la partie précédente\n",
    "## Cette fois-ci, le graphe est déjà généré\n",
    "\n",
    "def communityDetectionGraph(graph, N, score):\n",
    "    # score[0] représente le nombre de matchs effectués\n",
    "    # score[1] représente le nombre de matchs réussis\n",
    "    \n",
    "    tau = 0\n",
    "    for i in range(N):\n",
    "        for j in range(i):\n",
    "            tau += graph[i,j]\n",
    "            score[1] += graph[i,j]\n",
    "    tau /= N*(N-1)//2\n",
    "    score[0]+= N*(N-1)//2\n",
    "    \n",
    "    R = [[graph[i,j] for j in range(N)] for i in range(N)]\n",
    "    \n",
    "    C1 = []\n",
    "    C0 = []\n",
    "    \n",
    "    Community=sk.SpectralClustering(n_clusters=2, affinity='precomputed').fit(R).labels_\n",
    "    \n",
    "    for i in range(N):\n",
    "        if(Community[i]==1):\n",
    "            C1.append(i)\n",
    "        else:\n",
    "            C0.append(i)\n",
    "    return(C0, C1, tau)\n",
    "\n",
    "def naiveStrategyGraph(graph, T, p, q):\n",
    "    N = min(int(((p*T)/(p-q)**2)**(1/3)), int((2*T)**(1/2)))\n",
    "    score = [0, 0]\n",
    "    (C0, C1, tau) = communityDetectionGraph(graph, N, score)\n",
    "    \n",
    "    x=N\n",
    "    \n",
    "    while(score[0]<T):\n",
    "        matchingGraph(x, C0, C1, graph, tau, score, T)\n",
    "        x+=1\n",
    "    return score[1]\n",
    "\n",
    "def matchingGraph(x, C0, C1, graph, tau, score, T):\n",
    "    mu1 = graph[x,C1[0]]\n",
    "    mu0 = graph[x,C0[0]]\n",
    "    score[1] += graph[x,C1[0]] + graph[x,C0[0]]\n",
    "    \n",
    "    s1 = 1\n",
    "    s0 = 1\n",
    "    score[0] += 2\n",
    "    \n",
    "    while(s0 < len(C0) and s1 < len(C1)):\n",
    "        if(mu1 < s1*tau and mu0 < s0*tau):\n",
    "            mu1 += graph[x,C1[s1]]\n",
    "            mu0 += graph[x,C0[s0]]\n",
    "            score[1] += graph[x,C1[s1]] + graph[x,C0[s0]]\n",
    "            \n",
    "            s1 += 1\n",
    "            s0 += 1\n",
    "            score[0]+=2\n",
    "        elif(mu1*s0 < mu0*s1):\n",
    "            mu0 += graph[x,C0[s0]]\n",
    "            score[1] += graph[x,C0[s0]]\n",
    "            \n",
    "            s0 += 1\n",
    "            score[0] += 1\n",
    "        else:\n",
    "            mu1 += graph[x,C1[s1]]\n",
    "            score[1] += graph[x,C1[s1]]\n",
    "            \n",
    "            s1 += 1\n",
    "            score[0] += 1\n",
    "        if(score[0]>=T):\n",
    "            return\n",
    "\n",
    "\n",
    "def matchingAddGraph(x, C0, C1, graph, tau, score, T):\n",
    "    mu1 = graph[x][C1[0]]\n",
    "    mu0 = graph[x][C0[0]]\n",
    "    score[1] += graph[x,C1[0]] + graph[x,C0[0]]\n",
    "    \n",
    "    s1 = 1\n",
    "    s0 = 1\n",
    "    score[0] += 2\n",
    "    \n",
    "    while(s0 < len(C0) and s1 < len(C1)):\n",
    "        if(mu1 < s1*tau and mu0 < s0*tau):\n",
    "            mu1 += graph[x,C1[s1]]\n",
    "            mu0 += graph[x,C0[s0]]\n",
    "            score[1] += graph[x,C1[s1]] + graph[x,C0[s0]]\n",
    "            \n",
    "            s1 += 1\n",
    "            s0 += 1\n",
    "            score[0]+=2\n",
    "        elif(mu1*s0 < mu0*s1):\n",
    "            mu0 += graph[x,C0[s0]]\n",
    "            score[1] += graph[x,C0[s0]]\n",
    "            \n",
    "            s0 += 1\n",
    "            score[0] += 1\n",
    "        else:\n",
    "            mu1 += graph[x,C1[s1]]\n",
    "            score[1] += graph[x,C1[s1]]\n",
    "            \n",
    "            s1 += 1\n",
    "            score[0] += 1\n",
    "        if(score[0]>=T):\n",
    "            return\n",
    "    \n",
    "    if(s0 == len(C0)):\n",
    "        C0.append(x)\n",
    "    else:\n",
    "        C1.append(x)\n",
    "\n",
    "def addStrategyGraph(graph, T):\n",
    "    N = int(T**(1/4))\n",
    "    score = [0, 0]\n",
    "    (C0, C1, tau) = communityDetectionGraph(graph, N, score)\n",
    "    \n",
    "    x=N\n",
    "    \n",
    "    while(score[0]<T):\n",
    "        matchingAddGraph(x, C0, C1, graph, tau, score, T)\n",
    "        x+=1\n",
    "    return score[1]\n"
   ]
  },
  {
   "cell_type": "markdown",
   "id": "56a1e984",
   "metadata": {},
   "source": [
    "### Estimation de p, q et tau sur l'ensemble des données"
   ]
  },
  {
   "cell_type": "code",
   "execution_count": 29,
   "id": "42652123",
   "metadata": {},
   "outputs": [
    {
     "name": "stdout",
     "output_type": "stream",
     "text": [
      "On trouve p=0.3157378450302053, q=0.06810344827586207, tau=0.20023196690329362\n"
     ]
    }
   ],
   "source": [
    "graph=generateGraph(authorsOfThread, authors)\n",
    "(C1, C0, tau)=communityDetectionGraph(graph, len(authors), [0,0])\n",
    "\n",
    "p=0\n",
    "\n",
    "for i in C0:\n",
    "    for j in C0:\n",
    "        p+=graph[i,j]\n",
    "for i in C1:\n",
    "    for j in C1:\n",
    "        p+=graph[i,j]\n",
    "\n",
    "p/=len(C0)**2+len(C1)**2\n",
    "\n",
    "q=0\n",
    "\n",
    "for i in C1:\n",
    "    for j in C0:\n",
    "        q+=graph[i,j]\n",
    "q/=len(C1)*len(C0)\n",
    "\n",
    "print(\"On trouve p={}, q={}, tau={}\".format(p,q,tau))"
   ]
  },
  {
   "cell_type": "markdown",
   "id": "97d03d48",
   "metadata": {},
   "source": [
    "### Test des algorithmes sur les données"
   ]
  },
  {
   "cell_type": "code",
   "execution_count": 50,
   "id": "17ca4087",
   "metadata": {},
   "outputs": [
    {
     "data": {
      "image/png": "[encoded data removed]",
      "text/plain": [
       "<Figure size 432x288 with 1 Axes>"
      ]
     },
     "metadata": {
      "needs_background": "light"
     },
     "output_type": "display_data"
    }
   ],
   "source": [
    "T=range(2000, len(authors)**2 // 25, 2000)\n",
    "\n",
    "RandomRegret=[(p-tau)*t for t in T]\n",
    "RegretNaive=[p*t-naiveStrategyGraph(graph,t,p,q) for t in T]\n",
    "RegretAdd=[p*t-addStrategyGraph(graph,t) for t in T]\n",
    "\n",
    "plt.plot(T,RandomRegret)\n",
    "plt.plot(T, RegretNaive)\n",
    "plt.plot(T, RegretAdd)\n",
    "\n",
    "plt.title('Regret pour les différentes stratégies')\n",
    "plt.legend(['random choice of edges','naive strategy','add strategy'])\n",
    "plt.xlabel('T')\n",
    "plt.ylabel('Regret')\n",
    "\n",
    "plt.show()"
   ]
  },
  {
   "cell_type": "markdown",
   "id": "d2e527e3",
   "metadata": {},
   "source": [
    "## Résultats\n",
    "\n",
    "On remarque que sur des faibles instances ($T<6000$), le programme avec ajout des arêtes est moins efficace que la version sans ajout des arêtes.\n",
    "\n",
    "Cela s'explique par le fait que $6000^{1/4}<9$, ce qui rend le noyau trop petit pour que les communautés qui en émergent soient fiables.\n",
    "\n",
    "Ces deux stratégies marchent bien mieux que le hasard.\n",
    "\n",
    "Pour de faibles valeurs de $T$ on voit que la stratégie d'ajout est contre-productive."
   ]
  }
 ],
 "metadata": {
  "kernelspec": {
   "display_name": "Python 3 (ipykernel)",
   "language": "python",
   "name": "python3"
  },
  "language_info": {
   "codemirror_mode": {
    "name": "ipython",
    "version": 3
   },
   "file_extension": ".py",
   "mimetype": "text/x-python",
   "name": "python",
   "nbconvert_exporter": "python",
   "pygments_lexer": "ipython3",
   "version": "3.9.7"
  }
 },
 "nbformat": 4,
 "nbformat_minor": 5
}
